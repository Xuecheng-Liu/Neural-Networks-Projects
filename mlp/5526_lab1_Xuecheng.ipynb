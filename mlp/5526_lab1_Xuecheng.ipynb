{
  "nbformat": 4,
  "nbformat_minor": 0,
  "metadata": {
    "colab": {
      "name": "Untitled1.ipynb",
      "provenance": [],
      "collapsed_sections": []
    },
    "kernelspec": {
      "name": "python3",
      "display_name": "Python 3"
    }
  },
  "cells": [
    {
      "cell_type": "markdown",
      "metadata": {
        "id": "MnzJGnQygz6N"
      },
      "source": [
        "# CSE 5526 Lab 1\n",
        "## Author: Xuecheng Liu"
      ]
    },
    {
      "cell_type": "code",
      "metadata": {
        "id": "QBWqb5LRC6OG"
      },
      "source": [
        "import numpy as np\n",
        "import matplotlib.pyplot as plt\n",
        "import sys"
      ],
      "execution_count": 111,
      "outputs": []
    },
    {
      "cell_type": "code",
      "metadata": {
        "id": "4vz__2IzVBof"
      },
      "source": [
        "# activation functions\n",
        "def sigmoid(x):\n",
        "    return 1.0/(1+ np.exp(-x))\n",
        "\n",
        "def sigmoid_derivative(x):\n",
        "    return sigmoid(x)*(1-sigmoid(x))\n",
        "\n",
        "def tanh(x):\n",
        "  return (np.exp(x) - np.exp(-x))/(np.exp(x)+np.exp(-x))\n",
        "\n",
        "def tanh_derivative(x):\n",
        "  return (2/(np.exp(x)+np.exp(-x)))*(2/(np.exp(x)+np.exp(-x)))"
      ],
      "execution_count": 112,
      "outputs": []
    },
    {
      "cell_type": "code",
      "metadata": {
        "colab": {
          "base_uri": "https://localhost:8080/",
          "height": 296
        },
        "id": "Ha7BP2vZVZJb",
        "outputId": "6a0eb6e5-cc49-485b-8ce6-b2a1c00dcee5"
      },
      "source": [
        "# 2 layer neural network with 7 input, 12 unit hidden layer and 1 output\n",
        "# using tanh as activation and did not use moumentum\n",
        "class NN1:\n",
        "  def __init__(self, x, y):\n",
        "    self.input = x\n",
        "    self.y = y\n",
        "\n",
        "    self.weights_1 = np.random.uniform(-1,1,(self.input.shape[1], 12))\n",
        "    self.weights_2 = np.random.uniform(-1,1,(12, 1))\n",
        "    self.output = np.zeros(self.y.shape)\n",
        "\n",
        "  def feedforward(self):\n",
        "    # forward layer 1\n",
        "    self.layer1 = tanh(np.dot(self.input, self.weights_1))\n",
        "    # forward layer 2\n",
        "    self.output = tanh(np.dot(self.layer1, self.weights_2))\n",
        "\n",
        "  def backprop(self,lr):\n",
        "    # compute loss\n",
        "    loss = np.power((self.output - self.y), 2)\n",
        "    costs.append(np.mean(loss))\n",
        "\n",
        "    # calculate gradient\n",
        "    d_weights_2 = np.dot(self.layer1.T, (2*(self.y - self.output) * tanh_derivative(self.output)))\n",
        "    d_weights_1 = np.dot(self.input.T,  (np.dot(2*(self.y - self.output) * tanh_derivative(self.output), self.weights_2.T) * tanh_derivative(self.layer1)))\n",
        "\n",
        "    # update weight\n",
        "    self.weights_1 += lr*d_weights_1 \n",
        "    self.weights_2 += lr*d_weights_2\n",
        "\n",
        "# using 4 input from 2^7 possible inputs, the last 1 in each row is the bias term\n",
        "X = np.array([[1,1,1,1,1,1,1,1], [1,-1,1,1,1,1,1,1], [-1,1,1,1,1,1,1,1], [-1,1,1,-1,1,1,1,1]])\n",
        "y = np.array([[1],[-1],[-1],[1]])\n",
        "\n",
        "lr = np.linspace(0.005,0.05,10) # learning rate\n",
        "stop = [] # store the times to reach convergence\n",
        "\n",
        "\n",
        "for i in lr:\n",
        "  nn1 = NN1(X,y)\n",
        "  costs = []\n",
        "  for j in range(1000):\n",
        "    nn1.feedforward()\n",
        "    nn1.backprop(i)\n",
        "    if costs[len(costs)-1] < 0.1:\n",
        "      stop.append(j)\n",
        "      break\n",
        "\n",
        "plt.plot(lr,stop)\n",
        "plt.xlabel('learning rate')\n",
        "plt.ylabel('stopping time')\n",
        "plt.show"
      ],
      "execution_count": 113,
      "outputs": [
        {
          "output_type": "execute_result",
          "data": {
            "text/plain": [
              "<function matplotlib.pyplot.show>"
            ]
          },
          "metadata": {
            "tags": []
          },
          "execution_count": 113
        },
        {
          "output_type": "display_data",
          "data": {
            "image/png": "[encoded data removed]",
            "text/plain": [
              "<Figure size 432x288 with 1 Axes>"
            ]
          },
          "metadata": {
            "tags": [],
            "needs_background": "light"
          }
        }
      ]
    },
    {
      "cell_type": "code",
      "metadata": {
        "id": "Ttc2eBVStroW",
        "colab": {
          "base_uri": "https://localhost:8080/",
          "height": 296
        },
        "outputId": "53fb445e-7822-4922-b89c-c00757b1359b"
      },
      "source": [
        "# 2 layer neural network with 7 input, 12 unit hidden layer and 1 output\n",
        "# using tanh as activation with moumentum in update\n",
        "\n",
        "\n",
        "class NN2:\n",
        "\n",
        "  d_weights_1_p = np.zeros((7,12))\n",
        "  d_weights_2_p = np.zeros((12,1))\n",
        "  def __init__(self, x, y):\n",
        "    self.input = x\n",
        "    self.y = y\n",
        "\n",
        "    self.weights_1 = np.random.uniform(-1,1,(self.input.shape[1], 12))\n",
        "    self.weights_2 = np.random.uniform(-1,1,(12, 1))\n",
        "    self.output = np.zeros(self.y.shape)\n",
        "\n",
        "  def feedforward(self):\n",
        "    # forward layer 1\n",
        "    self.layer1 = tanh(np.dot(self.input, self.weights_1))\n",
        "    # forward layer 2\n",
        "    self.output = tanh(np.dot(self.layer1, self.weights_2))\n",
        "\n",
        "  def backprop(self,lr):\n",
        "    d_weights_1_p = np.zeros((7,12))\n",
        "    d_weights_2_p = np.zeros((12,1))\n",
        "    # compute loss\n",
        "    loss = np.power((self.output - self.y), 2)\n",
        "    costs.append(np.mean(loss))\n",
        "\n",
        "    # calculate gradient\n",
        "    d_weights_2 = np.dot(self.layer1.T, (2*(self.y - self.output) * tanh_derivative(self.output)))\n",
        "    d_weights_1 = np.dot(self.input.T,  (np.dot(2*(self.y - self.output) * tanh_derivative(self.output), self.weights_2.T) * tanh_derivative(self.layer1)))\n",
        "\n",
        "    \n",
        "    # update weight\n",
        "    self.weights_1 += lr*d_weights_1 + 0.8*d_weights_1_p\n",
        "    self.weights_2 += lr*d_weights_2 + 0.8*d_weights_2_p\n",
        "\n",
        "    d_weights_1_p = d_weights_1\n",
        "    d_weights_2_p = d_weights_2\n",
        "\n",
        "# using 4 input from 2^7 possible inputs\n",
        "X = np.array([[1,1,1,1,1,1,1], [1,-1,1,1,1,1,1], [-1,1,1,1,1,1,1], [-1,1,1,-1,1,1,1]])\n",
        "y = np.array([[1],[-1],[-1],[1]])\n",
        "\n",
        "lr = np.linspace(0.005,0.05,10) # learning rate\n",
        "stop = [] # store the times to reach convergence\n",
        "\n",
        "\n",
        "for i in lr:\n",
        "  nn1 = NN2(X,y)\n",
        "  costs = []\n",
        "  for j in range(1000):\n",
        "    nn1.feedforward()\n",
        "    nn1.backprop(i)\n",
        "    if costs[len(costs)-1] < 0.1:\n",
        "      stop.append(j)\n",
        "      break\n",
        "\n",
        "plt.plot(lr,stop)\n",
        "plt.xlabel('learning rate')\n",
        "plt.ylabel('stopping time')\n",
        "plt.show"
      ],
      "execution_count": 114,
      "outputs": [
        {
          "output_type": "execute_result",
          "data": {
            "text/plain": [
              "<function matplotlib.pyplot.show>"
            ]
          },
          "metadata": {
            "tags": []
          },
          "execution_count": 114
        },
        {
          "output_type": "display_data",
          "data": {
            "image/png": "[encoded data removed]",
            "text/plain": [
              "<Figure size 432x288 with 1 Axes>"
            ]
          },
          "metadata": {
            "tags": [],
            "needs_background": "light"
          }
        }
      ]
    },
    {
      "cell_type": "code",
      "metadata": {
        "colab": {
          "base_uri": "https://localhost:8080/",
          "height": 296
        },
        "id": "cJIaXwZamXUY",
        "outputId": "eff141b7-280c-4f7e-ed7d-c433b3cf3265"
      },
      "source": [
        "# 2 layer neural network with 7 input, 12 unit hidden layer and 1 output\n",
        "# using sigmoid as activation and did not use moumentum\n",
        "\n",
        "class NN3:\n",
        "  def __init__(self, x, y):\n",
        "    self.input = x\n",
        "    self.y = y\n",
        "\n",
        "    self.weights_1 = np.random.uniform(-1,1,(self.input.shape[1], 12))\n",
        "    self.weights_2 = np.random.uniform(-1,1,(12, 1))\n",
        "    self.output = np.zeros(self.y.shape)\n",
        "\n",
        "  def feedforward(self):\n",
        "    # forward layer 1\n",
        "    self.layer1 = sigmoid(np.dot(self.input, self.weights_1))\n",
        "    # forward layer 2\n",
        "    self.output = sigmoid(np.dot(self.layer1, self.weights_2))\n",
        "\n",
        "  def backprop(self,lr):\n",
        "    # compute loss\n",
        "    loss = np.power((self.output - self.y), 2)\n",
        "    costs.append(np.mean(loss))\n",
        "\n",
        "    # calculate gradient\n",
        "    d_weights_2 = np.dot(self.layer1.T, (2*(self.y - self.output) * sigmoid_derivative(self.output)))\n",
        "    d_weights_1 = np.dot(self.input.T,  (np.dot(2*(self.y - self.output) * sigmoid_derivative(self.output), self.weights_2.T) * sigmoid_derivative(self.layer1)))\n",
        "\n",
        "    # update weight\n",
        "    self.weights_1 += lr*d_weights_1 \n",
        "    self.weights_2 += lr*d_weights_2\n",
        "\n",
        "# using 4 input from 2^7 possible inputs\n",
        "X = np.array([[1,1,1,1,1,1,1,1], [1,-1,1,1,1,1,1,1], [-1,1,1,1,1,1,1,1], [-1,1,1,-1,1,1,1,1]])\n",
        "y = np.array([[1],[-1],[-1],[1]])\n",
        "\n",
        "lr = np.linspace(0.005,0.05,10) # learning rate\n",
        "stop = [] # store the times to reach convergence\n",
        "\n",
        "\n",
        "for i in lr:\n",
        "  nn1 = NN3(X,y)\n",
        "  costs = []\n",
        "  for j in range(1000):\n",
        "    nn1.feedforward()\n",
        "    nn1.backprop(i)\n",
        "    if costs[len(costs)-1] < 0.1:\n",
        "      stop.append(j)\n",
        "      break\n",
        "\n",
        "plt.plot(np.linspace(1,1000,1000),costs)\n",
        "plt.xlabel('iteration')\n",
        "plt.ylabel('costs')\n",
        "plt.show"
      ],
      "execution_count": 129,
      "outputs": [
        {
          "output_type": "execute_result",
          "data": {
            "text/plain": [
              "<function matplotlib.pyplot.show>"
            ]
          },
          "metadata": {
            "tags": []
          },
          "execution_count": 129
        },
        {
          "output_type": "display_data",
          "data": {
            "image/png": "[encoded data removed]",
            "text/plain": [
              "<Figure size 432x288 with 1 Axes>"
            ]
          },
          "metadata": {
            "tags": [],
            "needs_background": "light"
          }
        }
      ]
    },
    {
      "cell_type": "code",
      "metadata": {
        "colab": {
          "base_uri": "https://localhost:8080/"
        },
        "id": "cMaUNenHesC6",
        "outputId": "ef7e324c-7f30-4fb5-e33d-944b992fde45"
      },
      "source": [
        ""
      ],
      "execution_count": 125,
      "outputs": [
        {
          "output_type": "execute_result",
          "data": {
            "text/plain": [
              "0.7996621965991652"
            ]
          },
          "metadata": {
            "tags": []
          },
          "execution_count": 125
        }
      ]
    },
    {
      "cell_type": "code",
      "metadata": {
        "colab": {
          "base_uri": "https://localhost:8080/",
          "height": 296
        },
        "id": "FYkYlzjVeR1g",
        "outputId": "90a71f2d-ae9d-43bd-acad-10750962912c"
      },
      "source": [
        "# 2 layer neural network with 7 input, 12 unit hidden layer and 1 output\n",
        "# using sigmoid as activation and did not use moumentum\n",
        "\n",
        "class NN4:\n",
        "  def __init__(self, x, y):\n",
        "    self.input = x\n",
        "    self.y = y\n",
        "\n",
        "    self.weights_1 = np.random.uniform(-1,1,(self.input.shape[1], 12))\n",
        "    self.weights_2 = np.random.uniform(-1,1,(12, 1))\n",
        "    self.output = np.zeros(self.y.shape)\n",
        "\n",
        "  def feedforward(self):\n",
        "    # forward layer 1\n",
        "    self.layer1 = sigmoid(np.dot(self.input, self.weights_1))\n",
        "    # forward layer 2\n",
        "    self.output = sigmoid(np.dot(self.layer1, self.weights_2))\n",
        "\n",
        "  def backprop(self,lr):\n",
        "    d_weights_1_p = np.zeros((8,12))\n",
        "    d_weights_2_p = np.zeros((12,1))\n",
        "    # compute loss\n",
        "    loss = np.power((self.output - self.y), 2)\n",
        "    costs.append(np.mean(loss))\n",
        "\n",
        "    # calculate gradient\n",
        "    d_weights_2 = np.dot(self.layer1.T, (2*(self.y - self.output) * sigmoid_derivative(self.output)))\n",
        "    d_weights_1 = np.dot(self.input.T,  (np.dot(2*(self.y - self.output) * sigmoid_derivative(self.output), self.weights_2.T) * sigmoid_derivative(self.layer1)))\n",
        "\n",
        "    # update weight\n",
        "    self.weights_1 += lr*d_weights_1 + 0.8*d_weights_1_p\n",
        "    self.weights_2 += lr*d_weights_2 + 0.8*d_weights_2_p\n",
        "\n",
        "    d_weights_1_p = d_weights_1\n",
        "    d_weights_2_p = d_weights_2\n",
        "\n",
        "# using 4 input from 2^7 possible inputs\n",
        "X = np.array([[1,1,1,1,1,1,1,1], [1,-1,1,1,1,1,1,1], [-1,1,1,1,1,1,1,1], [-1,1,1,-1,1,1,1,1]])\n",
        "y = np.array([[1],[-1],[-1],[1]])\n",
        "\n",
        "lr = np.linspace(0.005,0.05,10) # learning rate\n",
        "stop = [] # store the times to reach convergence\n",
        "\n",
        "\n",
        "for i in lr:\n",
        "  nn1 = NN4(X,y)\n",
        "  costs = []\n",
        "  for j in range(1000):\n",
        "    nn1.feedforward()\n",
        "    nn1.backprop(i)\n",
        "    if costs[len(costs)-1] < 0.1:\n",
        "      stop.append(j)\n",
        "      break\n",
        "\n",
        "plt.plot(np.linspace(1,1000,1000),costs)\n",
        "plt.xlabel('iteration')\n",
        "plt.ylabel('costs')\n",
        "plt.show"
      ],
      "execution_count": 131,
      "outputs": [
        {
          "output_type": "execute_result",
          "data": {
            "text/plain": [
              "<function matplotlib.pyplot.show>"
            ]
          },
          "metadata": {
            "tags": []
          },
          "execution_count": 131
        },
        {
          "output_type": "display_data",
          "data": {
            "image/png": "[encoded data removed]",
            "text/plain": [
              "<Figure size 432x288 with 1 Axes>"
            ]
          },
          "metadata": {
            "tags": [],
            "needs_background": "light"
          }
        }
      ]
    }
  ]
}